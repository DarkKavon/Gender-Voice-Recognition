{
 "cells": [
  {
   "cell_type": "code",
   "execution_count": 38,
   "id": "e3a0453b",
   "metadata": {},
   "outputs": [
    {
     "name": "stderr",
     "output_type": "stream",
     "text": [
      "<ipython-input-38-39cc0de40c14>:52: WavFileWarning: Reached EOF prematurely; finished at 613916 bytes, expected 613924 bytes from header.\n",
      "  rate, array = wavfile.read(file)\n",
      "<ipython-input-38-39cc0de40c14>:52: WavFileWarning: Chunk (non-data) not understood, skipping it.\n",
      "  rate, array = wavfile.read(file)\n"
     ]
    },
    {
     "name": "stdout",
     "output_type": "stream",
     "text": [
      "Legend: [ok, not ok]\n",
      "Male stats: [42, 3]\n",
      "Female stats: [44, 2]\n",
      "94.51%\n"
     ]
    }
   ],
   "source": [
    "import glob\n",
    "from scipy.io import wavfile\n",
    "from pylab import *\n",
    "from scipy import *\n",
    "import numpy as np\n",
    "\n",
    "maleRange = [60,160]\n",
    "femaleRange = [180,270]\n",
    "HPSCount = 5\n",
    "\n",
    "def HPS(rate, inputData):\n",
    "    T = len(inputData)/rate # sound length in seconds\n",
    "    chunks = [inputData[i*rate:(i+1)*rate] for i in range(int(T))] # devide into full seconds\n",
    "    resultChunks = [] # result list\n",
    "    for data in chunks:\n",
    "        hamWindow = np.hamming(len(data))\n",
    "        # convert data into 1 chanel\n",
    "        if data.ndim > 1:\n",
    "            data = (data[:, 0] + data[:,1]) / 2\n",
    "        else:\n",
    "            pass\n",
    "        data = data*hamWindow\n",
    "        fft = abs(np.fft.fft(data))/rate\n",
    "        fftCopy = np.copy(fft)\n",
    "        for i in range(2,HPSCount):\n",
    "            tab = np.copy(fft[::i])\n",
    "            fftCopy = fftCopy[:len(tab)]\n",
    "            fftCopy *= tab\n",
    "        resultChunks.append(fftCopy)\n",
    "    \n",
    "    # list of 0s, len: middle list of resChunks\n",
    "    result = [0]*len(resultChunks[int(len(resultChunks)/2)])\n",
    "    for res in resultChunks:\n",
    "        if(len(res)!=len(result)):\n",
    "            continue\n",
    "        result += res\n",
    "        \n",
    "    # comparison sum in male and female range\n",
    "    if(np.sum(result[maleRange[0]:maleRange[1]]) > np.sum(result[femaleRange[0]:femaleRange[1]])): \n",
    "        return 1\n",
    "    else:\n",
    "        return 0\n",
    "    return -1\n",
    "\n",
    "if __name__ == \"__main__\":\n",
    "    # female: 0\n",
    "    # male: 1\n",
    "    m = [0,0] # ok, nok\n",
    "    f = [0,0] # ok, nok\n",
    "    files = glob.glob(\"trainall/*.wav\")\n",
    "    for file in files:\n",
    "        rate, array = wavfile.read(file)\n",
    "        gender = int(file[-5:-4] == \"M\")\n",
    "        result = HPS(rate, array)\n",
    "        if result == -1:\n",
    "            print(\"ERROR!\")\n",
    "        else:\n",
    "            if gender == 1:\n",
    "                if result == 1:\n",
    "                    m[0] += 1\n",
    "                else:\n",
    "                    m[1] += 1\n",
    "            else:\n",
    "                if result == 1:\n",
    "                    f[1] += 1\n",
    "                else:\n",
    "                    f[0] += 1\n",
    "    print(\"Legend: [ok, not ok]\")\n",
    "    print(\"Male stats:\",m)\n",
    "    print(\"Female stats:\",f)\n",
    "    stats = round((m[0] + f[0]) / (np.sum(m) + np.sum(f)),4)*100\n",
    "    print(str(stats)+'%')"
   ]
  },
  {
   "cell_type": "code",
   "execution_count": null,
   "id": "08fac01c",
   "metadata": {},
   "outputs": [],
   "source": [
    "\n"
   ]
  },
  {
   "cell_type": "code",
   "execution_count": null,
   "id": "5974957f",
   "metadata": {},
   "outputs": [],
   "source": []
  }
 ],
 "metadata": {
  "kernelspec": {
   "display_name": "Python 3",
   "language": "python",
   "name": "python3"
  },
  "language_info": {
   "codemirror_mode": {
    "name": "ipython",
    "version": 3
   },
   "file_extension": ".py",
   "mimetype": "text/x-python",
   "name": "python",
   "nbconvert_exporter": "python",
   "pygments_lexer": "ipython3",
   "version": "3.8.8"
  }
 },
 "nbformat": 4,
 "nbformat_minor": 5
}
